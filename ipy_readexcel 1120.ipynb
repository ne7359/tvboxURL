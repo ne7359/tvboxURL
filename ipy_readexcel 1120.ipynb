{
 "cells": [
  {
   "cell_type": "markdown",
   "metadata": {},
   "source": [
    "读取Excel 内容"
   ]
  },
  {
   "cell_type": "markdown",
   "metadata": {},
   "source": [
    "20240515 pm excel 批量读取URL后识别线路 并输出"
   ]
  },
  {
   "cell_type": "markdown",
   "metadata": {},
   "source": [
    "2024年6月11日 22点15分 测试部分链接未识别"
   ]
  },
  {
   "cell_type": "markdown",
   "metadata": {},
   "source": [
    "* 完善 线路的识别，有识别到sites就认定为线路。\n",
    "* 增加2代理"
   ]
  },
  {
   "cell_type": "markdown",
   "metadata": {},
   "source": [
    "### 20240613 pm  \"User-Agent\": \"okhttp/4.1.0\" 取代代理链接\n"
   ]
  },
  {
   "cell_type": "code",
   "execution_count": null,
   "metadata": {},
   "outputs": [],
   "source": [
    "import openpyxl\n",
    "import requests\n",
    "import json\n",
    "import re,os\n",
    "import warnings \n",
    "warnings.filterwarnings(\"ignore\")\n",
    "\n",
    "def respon_out(respon): #输入respond,判断线路、单仓和多仓\n",
    "    mcang=re.search(\"storeHouse\",respon,re.M|re.I)\n",
    "    scang = re.search(\"urls\",respon,re.M|re.I)\n",
    "    xlu = re.search(\"sites\",respon,re.M|re.I)\n",
    "    if xlu is not None :\n",
    "        return \"H线路\"\n",
    "    elif xlu is  None and scang is not None and mcang is None:\n",
    "        return \"H单仓\"\n",
    "    elif xlu is  None and scang is  None and mcang is not None:\n",
    "        return \"H多仓\"\n",
    "    else :\n",
    "        return \"other\"\n",
    "\n",
    "def addlink(url): #增加代理链接\n",
    "    agentlink=\"https://xn--sss604efuw.com/jm/jiemi.php?url=\"\n",
    "    url1=agentlink+url\n",
    "    return url1\n",
    "\n",
    "def url_respon(url): #输入原始url,解析网站。返回：0-代理url；1-respone等元组；2-状态+200\n",
    "    headers={\"User-Agent\":\"okhttp/4.1.0\"}\n",
    "    try:\n",
    "        respon=requests.get(url,verify=False,timeout =60)\n",
    "        codema= respon.status_code\n",
    "        if codema==200:\n",
    "            conten=\"首次解析状态:\"+str(codema)\n",
    "            # print(respon.text)\n",
    "            return url,respon.text,conten\n",
    "        else:\n",
    "            respon1=requests.get(url,headers=headers,verify=False,timeout =60)  #更换UA\n",
    "            codema1= respon1.status_code\n",
    "            conten1=\"更换UA状态: \"+str(codema1)\n",
    "            return url,respon1.text,conten1\n",
    "    except:\n",
    "        try:\n",
    "            respon2=requests.get(url=addlink(url),headers=headers,verify=False,timeout =60)  #增加代理2函数\n",
    "            codema2= respon2.status_code\n",
    "            conten2=\"代理网址状态: \"+str(codema2)\n",
    "            return url,respon2.text,conten2\n",
    "        except:\n",
    "            return url,\"000\",\"解析失败了: \"\n",
    "\n",
    "i=1\n",
    "# excel_file = r'D:\\OneDrive\\Learn\\pythonLearn\\TvBox\\tvbox\\excel_xianlu.xlsx' #家里路径\n",
    "excel_file = r'D:\\lxd\\learn\\py\\tvbox\\excel_xianlu.xlsx' #公司路径\n",
    "workbook = openpyxl.load_workbook(filename=excel_file)\n",
    "sheet1= workbook['610']\n",
    "for row in sheet1.iter_rows(values_only=True):\n",
    "    if not (row[1]) is None :\n",
    "        analysis_respone=url_respon(row[1]) \n",
    "        strtxt=respon_out(analysis_respone[1]) #返回解析结果,如单仓/多仓/失败\n",
    "        codetxt=analysis_respone[2]  #返回 url的返回状态 如200，400\n",
    "        sheet1.cell(row = i,column = 4,value = strtxt)\n",
    "        sheet1.cell(row = i,column = 5,value = codetxt)\n",
    "        sheet1.cell(row = i,column = 6,value = analysis_respone[0]) #返回代理链接\n",
    "        print(strtxt,codetxt,row[1])\n",
    "    else:\n",
    "        break\n",
    "    i=i+1\n",
    "workbook.save(filename = \"excel_0613pm.xlsx\")"
   ]
  },
  {
   "cell_type": "markdown",
   "metadata": {},
   "source": [
    "### 20241120 读取Excel的URL链接 批量解析链接有效性及单多仓\n"
   ]
  },
  {
   "cell_type": "code",
   "execution_count": null,
   "metadata": {},
   "outputs": [],
   "source": [
    "import openpyxl\n",
    "import requests\n",
    "import json\n",
    "import re,os\n",
    "import warnings \n",
    "warnings.filterwarnings(\"ignore\")\n",
    "\n",
    "def respon_out(respon): #输入respond,判断线路、单仓和多仓\n",
    "    mcang=re.search(\"storeHouse\",respon,re.M|re.I)\n",
    "    scang = re.search(\"urls\",respon,re.M|re.I)\n",
    "    xlu = re.search(\"sites\",respon,re.M|re.I)\n",
    "    if xlu is not None :\n",
    "        return \"H线路\"\n",
    "    elif xlu is  None and scang is not None and mcang is None:\n",
    "        return \"H单仓\"\n",
    "    elif xlu is  None and scang is  None and mcang is not None:\n",
    "        return \"H多仓\"\n",
    "    else :\n",
    "        return \"other\"\n",
    "\n",
    "def addlink(url): #增加代理链接\n",
    "    agentlink=\"https://xn--sss604efuw.com/jm/jiemi.php?url=\"\n",
    "    url1=agentlink+url\n",
    "    return url1\n",
    "\n",
    "def url_respon(url): #输入原始url,解析网站。返回：0-代理url；1-respone等元组；2-状态+200\n",
    "    headers={\"User-Agent\":\"okhttp/4.1.0\"}\n",
    "    try:\n",
    "        respon=requests.get(url,verify=False,timeout =60)\n",
    "        codema= respon.status_code\n",
    "        if codema==200:\n",
    "            conten=\"首次解析状态:\"+str(codema)\n",
    "            # print(respon.text)\n",
    "            return url,respon.text,conten\n",
    "        else:\n",
    "            respon1=requests.get(url,headers=headers,verify=False,timeout =60)  #更换UA\n",
    "            codema1= respon1.status_code\n",
    "            conten1=\"更换UA状态: \"+str(codema1)\n",
    "            return url,respon1.text,conten1\n",
    "    except:\n",
    "        try:\n",
    "            respon2=requests.get(url=addlink(url),headers=headers,verify=False,timeout =60)  #增加代理2函数\n",
    "            codema2= respon2.status_code\n",
    "            conten2=\"代理网址状态: \"+str(codema2)\n",
    "            return url,respon2.text,conten2\n",
    "        except:\n",
    "            return url,\"000\",\"解析失败了: \"\n",
    "\n",
    "i=1\n",
    "# excel_file = r'D:\\OneDrive\\Learn\\pythonLearn\\TvBox\\tvbox\\excel_xianlu.xlsx' #家里路径\n",
    "excel_file = r'D:\\lxd\\learn\\py\\tvbox\\excel_xianlu.xlsx' #公司路径\n",
    "workbook = openpyxl.load_workbook(filename=excel_file)\n",
    "sheet1= workbook['1120']\n",
    "for row in sheet1.iter_rows(values_only=True):\n",
    "    if not (row[1]) is None :\n",
    "        analysis_respone=url_respon(row[1]) \n",
    "        strtxt=respon_out(analysis_respone[0]) #返回解析结果,如单仓/多仓/失败\n",
    "        codetxt=analysis_respone[2]  #返回 url的返回状态 如200，400\n",
    "        sheet1.cell(row = i,column = 4,value = strtxt)\n",
    "        sheet1.cell(row = i,column = 5,value = codetxt)\n",
    "        sheet1.cell(row = i,column = 6,value = analysis_respone[0]) #返回代理链接\n",
    "        print(strtxt,codetxt,row[1])\n",
    "    else:\n",
    "        break\n",
    "    i=i+1\n",
    "workbook.save(filename = \"excel_1120.xlsx\")"
   ]
  },
  {
   "cell_type": "code",
   "execution_count": null,
   "metadata": {},
   "outputs": [],
   "source": []
  }
 ],
 "metadata": {
  "kernelspec": {
   "display_name": "Python 3",
   "language": "python",
   "name": "python3"
  },
  "language_info": {
   "codemirror_mode": {
    "name": "ipython",
    "version": 3
   },
   "file_extension": ".py",
   "mimetype": "text/x-python",
   "name": "python",
   "nbconvert_exporter": "python",
   "pygments_lexer": "ipython3",
   "version": "3.10.11"
  }
 },
 "nbformat": 4,
 "nbformat_minor": 2
}
