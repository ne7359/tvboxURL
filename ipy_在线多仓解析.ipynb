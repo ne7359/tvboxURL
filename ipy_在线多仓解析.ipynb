{
 "cells": [
  {
   "cell_type": "markdown",
   "metadata": {},
   "source": [
    "20240701 多仓验证有效\n"
   ]
  },
  {
   "cell_type": "code",
   "execution_count": 2,
   "metadata": {},
   "outputs": [
    {
     "name": "stdout",
     "output_type": "stream",
     "text": [
      "总线路条数： 32\n",
      "👍|推荐3号自动更新 H单仓 | 成功 |\n",
      "♦🟥|PG仓 H单仓 | 成功 |\n",
      "🌟星星影视 H单仓 | 成功 |\n",
      "多线路 H单仓 | 成功 |\n",
      "🛀🏻小白影视 H单仓 | 成功 |\n",
      "🥝金鹰影视 H单仓 | 成功 |\n",
      "🎇恒星影视 H单仓 | 成功 |\n",
      "🌴青木影视 H单仓 | 成功 |\n",
      "💖心动影视 H单仓 | 成功 |\n",
      "天微接口 H单仓 | 成功 |\n",
      "xhz H单仓 | 成功 |\n",
      "运输车加速 H单仓 | 成功 |\n",
      "🍚饭太硬仓库 H单仓 | 成功 |\n",
      "💠水大侠影视仓库 H单仓 | 成功 |\n",
      "拾光精选单仓线路： H单仓 | 成功 |\n",
      "📺追剧吧影视 H单仓 | 成功 |\n",
      "推荐仓库2 H单仓 | 成功 |\n",
      "推荐仓库1 H单仓 | 成功 |\n",
      "心动仓库 H单仓 | 成功 |\n",
      "爱TV自营接口 H单仓 | 成功 |\n",
      "🥥拾光源口 H单仓 | 成功 |\n",
      "业余日后单仓 H单仓 | 成功 |\n",
      "挺好 H单仓 | 成功 |\n",
      "欧歌单仓 H单仓 | 成功 |\n",
      "天微多线路 https://qixing.myhkw.com/DC.txt url失败\n",
      "刘备精选单仓 H单仓 | 成功 |\n",
      "有毒 H单仓 | 成功 |\n",
      "weixi H单仓 | 成功 |\n",
      "💚多多优选仓🍭软件接口🍭 H单仓 | 成功 |\n",
      "💛多多公众仓🍭完全免费🍭 H单仓 | 成功 |\n",
      "❤️多多聚合仓🍭严禁贩卖🍭 H单仓 | 成功 |\n",
      "💜多多预备仓🍭不做韭菜🍭 H单仓 | 成功 |\n"
     ]
    }
   ],
   "source": [
    "import requests\n",
    "import json\n",
    "import re,os,sys\n",
    "import warnings \n",
    "warnings.filterwarnings(\"ignore\")\n",
    "\n",
    "\n",
    "def stroe2rul(url):\n",
    "    try :\n",
    "        respon=requests.get(url,headers=headers,verify=False,timeout=60)\n",
    "        codema= respon.status_code\n",
    "        if codema==200:\n",
    "            conten=\"首次解析状态:\"+str(codema)\n",
    "            jsondata = json.loads(respon.text)\n",
    "            datas=jsondata['storeHouse']\n",
    "            x=len(datas)\n",
    "            print('总线路条数：',x)\n",
    "            for data in datas:\n",
    "                    jsurl=data['sourceUrl']\n",
    "                    jsname=data['sourceName']\n",
    "                    # print(jsname, jsurl)\n",
    "                    get_tvbox_url(jsname, jsurl)\n",
    "            return jsname, jsurl\n",
    "        else:\n",
    "            print(\"解析失败，状态码：\"+codema)\n",
    "    except:\n",
    "        print(\"storeurl失败\")\n",
    "\n",
    "def get_tvbox_url(name,url):\n",
    "    try:\n",
    "        rerponurl=requests.get(url,headers=headers,verify=False,timeout=60)\n",
    "        if rerponurl.status_code==200:\n",
    "            xlmc=respon_out(rerponurl.text)\n",
    "            print(name,xlmc,\"| 成功 |\")\n",
    "        else:\n",
    "            print(name,url,\"失败\")\n",
    "    except:\n",
    "        print(name,url,\"url失败\")\n",
    "\n",
    "def respon_out(respon): #输入respond,判断线路、单仓和多仓\n",
    "    mcang=re.search(\"storeHouse\",respon,re.M|re.I)\n",
    "    scang = re.search(\"urls\",respon,re.M|re.I)\n",
    "    xlu = re.search(\"sites\",respon,re.M|re.I)\n",
    "    if xlu is not None :\n",
    "        return \"H线路\"\n",
    "    elif xlu is  None and scang is not None and mcang is None:\n",
    "        return \"H单仓\"\n",
    "    elif xlu is  None and scang is  None and mcang is not None:\n",
    "        return \"H多仓\"\n",
    "    else :\n",
    "        return \"other\"\n",
    "\n",
    "if __name__ == '__main__':\n",
    "    url=\"https://gitee.com/jiangnandao/tvboxshare/raw/master/TvBoxMutStore\"\n",
    "    headers={\"User-Agent\":\"okhttp/4.1.0\"}\n",
    "    stroe2rul(url)\n",
    "\n"
   ]
  }
 ],
 "metadata": {
  "kernelspec": {
   "display_name": "Python 3",
   "language": "python",
   "name": "python3"
  },
  "language_info": {
   "codemirror_mode": {
    "name": "ipython",
    "version": 3
   },
   "file_extension": ".py",
   "mimetype": "text/x-python",
   "name": "python",
   "nbconvert_exporter": "python",
   "pygments_lexer": "ipython3",
   "version": "3.10.11"
  }
 },
 "nbformat": 4,
 "nbformat_minor": 2
}
