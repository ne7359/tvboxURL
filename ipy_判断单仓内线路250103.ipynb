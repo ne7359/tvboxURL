{
 "cells": [
  {
   "cell_type": "markdown",
   "metadata": {},
   "source": [
    "20250103 判断单仓内的线路，并把OK线路提取出来"
   ]
  },
  {
   "cell_type": "code",
   "execution_count": 1,
   "metadata": {},
   "outputs": [
    {
     "name": "stdout",
     "output_type": "stream",
     "text": [
      "H单仓 首次解析状态:200 https://xmbjm.github.io/ck.json\n",
      "H单仓 首次解析状态:200 https://4708.kstore.space/ck.json\n",
      "H单仓 首次解析状态:200 https://9877.kstore.space/FourDS/api.json\n",
      "H单仓 更换UA状态: 200 http://kxrj.site:55\n",
      "H单仓 首次解析状态:200 https://qixing.myhkw.com/DC.txt\n",
      "H单仓 首次解析状态:200 https://12586.kstore.space/123.txt\n",
      "H单仓 首次解析状态:200 https://bitbucket.org/xduo/cool/raw/main/ck/公众号多多影音.txt\n",
      "H单仓 首次解析状态:200 https://bitbucket.org/xduo/cool/raw/main/ck/公众号多多APP.txt\n",
      "H单仓 首次解析状态:200 https://bitbucket.org/xduo/cool/raw/main/ck/公众号应用边界.txt\n"
     ]
    }
   ],
   "source": [
    "import openpyxl\n",
    "import requests\n",
    "import json\n",
    "import re,os\n",
    "import warnings \n",
    "warnings.filterwarnings(\"ignore\")\n",
    "\n",
    "def respon_out(respon): #输入respond,判断线路、单仓和多仓\n",
    "    mcang=re.search(\"storeHouse\",respon,re.M|re.I)\n",
    "    scang = re.search(\"urls\",respon,re.M|re.I)\n",
    "    xlu = re.search(\"sites\",respon,re.M|re.I)\n",
    "    if xlu is not None :\n",
    "        return \"H线路\"\n",
    "    elif xlu is  None and scang is not None and mcang is None:\n",
    "        return \"H单仓\"\n",
    "    elif xlu is  None and scang is  None and mcang is not None:\n",
    "        return \"H多仓\"\n",
    "    else :\n",
    "        return \"other\"\n",
    "\n",
    "def addlink(url): #增加代理链接\n",
    "    agentlink=\"https://xn--sss604efuw.com/jm/jiemi.php?url=\"\n",
    "    url1=agentlink+url\n",
    "    return url1\n",
    "\n",
    "def url_respon(url): #输入原始url,解析网站。返回：0-代理url；1-respone等元组；2-状态+200\n",
    "    headers={\"User-Agent\":\"okhttp/4.1.0\"}\n",
    "    try:\n",
    "        respon=requests.get(url,verify=False,timeout =60)\n",
    "        codema= respon.status_code\n",
    "        if codema==200:\n",
    "            if respon_out(respon.text)!='other': #如果解析结果不是other，则返回解析结果\n",
    "                conten=\"首次解析状态:\"+str(codema)\n",
    "                outcang=respon_out(respon.text)\n",
    "                # print(respon.text)\n",
    "                return url,conten,outcang\n",
    "            else:\n",
    "                respon1=requests.get(url,headers=headers,verify=False,timeout =60)  #更换UA\n",
    "                codema1= respon1.status_code\n",
    "                conten1=\"更换UA状态: \"+str(codema1)\n",
    "                outcang1=respon_out(respon1.text)\n",
    "                return url,conten1,outcang1\n",
    "        else:\n",
    "            respon2=requests.get(url=addlink(url),headers=headers,verify=False,timeout =60)  #增加代理2函数\n",
    "            codema2= respon.status_code\n",
    "            conten2=\"解析状态: \"+str(codema2)\n",
    "            outcang2=respon_out(respon2.text)\n",
    "            return url,conten2,outcang2\n",
    "    except Exception:\n",
    "        # print(\"解析失败了!: \",url)\n",
    "        return url,\"失败状态：000\",\"解析失败: \"\n",
    "\n",
    "def main():\n",
    "    i=1\n",
    "    # excel_file = r'D:\\OneDrive\\Learn\\pythonLearn\\TvBox\\tvbox\\excel_xianlu.xlsx' #家里路径\n",
    "    excel_file = r'D:\\lxd\\learn\\py\\tvbox\\excel_0103.xlsx' #公司路径\n",
    "    workbook = openpyxl.load_workbook(filename=excel_file)\n",
    "    sheet1= workbook['单仓']\n",
    "    for row in sheet1.iter_rows(values_only=True):\n",
    "        if not row is None :\n",
    "            analysis_respone=url_respon(row[1]) \n",
    "            \n",
    "\n",
    "            strtxt=analysis_respone[2] #返回解析结果,如单仓/多仓/失败\n",
    "            codetxt=analysis_respone[1]  #返回 url的返回状态 如200，400\n",
    "            # sheet1.cell(row = i,column = 4,value = strtxt)\n",
    "            # sheet1.cell(row = i,column = 5,value = codetxt)\n",
    "\n",
    "            print(strtxt,codetxt,row[1])\n",
    "        else:\n",
    "            break\n",
    "        i=i+1\n",
    "    # workbook.save(filename = \"excel_0103sb2.xlsx\")\n",
    "    # print(\"__\"*100)\n",
    "if __name__ == '__main__':\n",
    "    main()\n"
   ]
  },
  {
   "cell_type": "markdown",
   "metadata": {},
   "source": [
    "从其他py脚本中读取 单个url仓库，返回线路条数和线路\n"
   ]
  },
  {
   "cell_type": "code",
   "execution_count": null,
   "metadata": {},
   "outputs": [],
   "source": [
    "from KuSingleURL import check_file_exist,main\n"
   ]
  }
 ],
 "metadata": {
  "kernelspec": {
   "display_name": "Python 3",
   "language": "python",
   "name": "python3"
  },
  "language_info": {
   "codemirror_mode": {
    "name": "ipython",
    "version": 3
   },
   "file_extension": ".py",
   "mimetype": "text/x-python",
   "name": "python",
   "nbconvert_exporter": "python",
   "pygments_lexer": "ipython3",
   "version": "3.10.11"
  }
 },
 "nbformat": 4,
 "nbformat_minor": 2
}
